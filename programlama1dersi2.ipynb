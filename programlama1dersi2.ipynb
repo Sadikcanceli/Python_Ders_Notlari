{
 "cells": [
  {
   "cell_type": "code",
   "execution_count": null,
   "metadata": {},
   "outputs": [
    {
     "name": "stdout",
     "output_type": "stream",
     "text": [
      "5\n"
     ]
    }
   ],
   "source": [
    "c = [-45, 6, 0, 72, 1543] # liste \n",
    "print(len(c)) # c nin uzunluğunu verir\n",
    "print(c[-1]) # c için sondan ilk elemanı yani \"1543\" ü verir verir tersden başlarken -1 den başlar"
   ]
  },
  {
   "cell_type": "code",
   "execution_count": 4,
   "metadata": {},
   "outputs": [
    {
     "name": "stdout",
     "output_type": "stream",
     "text": [
      "-39\n"
     ]
    }
   ],
   "source": [
    "result = c[0] + c[1] + c[2]\n",
    "print(result)"
   ]
  },
  {
   "cell_type": "code",
   "execution_count": null,
   "metadata": {},
   "outputs": [
    {
     "name": "stdout",
     "output_type": "stream",
     "text": [
      "[1, 2, 3, 4, 5]\n"
     ]
    }
   ],
   "source": [
    "a_list = [] # boş liste\n",
    "\n",
    "for number in range(1, 6): # 1 den 6 ya kadar olan sayıları a_list e ekler ama 6 dahil değil\n",
    "     a_list += [number]\n",
    "print(a_list)     \n",
    "\n"
   ]
  },
  {
   "cell_type": "code",
   "execution_count": 8,
   "metadata": {},
   "outputs": [
    {
     "name": "stdout",
     "output_type": "stream",
     "text": [
      "['P', 'y', 't', 'h', 'o', 'n']\n"
     ]
    }
   ],
   "source": [
    "letters = []\n",
    "letters += 'Python' # Python kelimesini harf harf ayırır ve letters listesine ekler\n",
    "print(letters)\n"
   ]
  },
  {
   "cell_type": "code",
   "execution_count": 9,
   "metadata": {},
   "outputs": [
    {
     "name": "stdout",
     "output_type": "stream",
     "text": [
      "[10, 20, 30, 40, 50]\n"
     ]
    }
   ],
   "source": [
    "\n",
    "list1 = [10, 20, 30]\n",
    "list2 = [40, 50]\n",
    "\n",
    "concatenated_list = list1 + list2 # list1 ve list2 yi birleştirir\n",
    "print(concatenated_list)"
   ]
  },
  {
   "cell_type": "code",
   "execution_count": null,
   "metadata": {},
   "outputs": [
    {
     "name": "stdout",
     "output_type": "stream",
     "text": [
      "0: 10\n",
      "1: 20\n",
      "2: 30\n",
      "3: 40\n",
      "4: 50\n"
     ]
    }
   ],
   "source": [
    "list1 = [10, 20, 30]\n",
    "list2 = [40, 50]\n",
    "\n",
    "concatenated_list = list1 + list2\n",
    "\n",
    "for i in range(len(concatenated_list)):\n",
    "    print(f'{i}: {concatenated_list[i]}') # i yi ve i nin karşılığı olan elemanı yazdırır\n",
    "#bu yolla bilgisayarda excel olmasa bile bir excel tablosunun satır ve sütunlarını yazdırabiliriz\n",
    "#böylece bu dosya ne ile ilgili olduğunu anlayabiliriz\n"
   ]
  },
  {
   "cell_type": "code",
   "execution_count": 11,
   "metadata": {},
   "outputs": [
    {
     "name": "stdout",
     "output_type": "stream",
     "text": [
      "[1, 2, 3, 4, 5, 6, 7, 8, 9, 10]\n",
      "[1, 8, 27, 64, 125, 216, 343, 512, 729, 1000]\n"
     ]
    }
   ],
   "source": [
    "def cube_list(values): # küp alma fonksiyonunu tanımladık ve fonksiyona value adında bir liste verdik\n",
    "    for i in range(len(values)): # value nin uzunluğu kadar döngü oluşturduk\n",
    "        values[i] **= 3 # her bir elemanın küpünü aldık\n",
    "\n",
    "numbers = [1, 2, 3, 4, 5, 6, 7, 8, 9, 10] # numbers listesi\n",
    "\n",
    "print(numbers) # c listesini küp almadan önce yazdırdık\n",
    "cube_list(numbers) # c listesini fonksiyona verdik\n",
    "print(numbers) # c listesini küp aldıktan sonra yazdırdık"
   ]
  },
  {
   "cell_type": "code",
   "execution_count": 12,
   "metadata": {},
   "outputs": [
    {
     "name": "stdout",
     "output_type": "stream",
     "text": [
      "(10, 20, 30, 40, 50)\n"
     ]
    }
   ],
   "source": [
    "tuple1 = (10, 20, 30)\n",
    "tuple2 = (40, 50)\n",
    "tuple3 = tuple1 + tuple2 # tuple1 ve tuple2 yi birleştirdik\n",
    "print(tuple3) # tuple3 ü yazdırdık"
   ]
  },
  {
   "cell_type": "code",
   "execution_count": null,
   "metadata": {},
   "outputs": [
    {
     "name": "stdout",
     "output_type": "stream",
     "text": [
      "Amanda\n",
      "[98, 85, 87]\n"
     ]
    }
   ],
   "source": [
    "student_tuple = ('Amanda', [98, 85, 87])\n",
    "first_name, grades = student_tuple # student_tuple'ın ilk elemanını first_name ye ikinci elemanını grades e atadık\n",
    "# birden fazla isim ve not olacağı zaman her isim ve not içib bir bir tuple olması lazım ve onlrı tek bir genel tuple içine alırız\n",
    "# ((ali, 123) (veli, 456)) gibi\n",
    "print(first_name) # Amanda\n",
    "print(grades) # [98, 85, 87]"
   ]
  },
  {
   "cell_type": "code",
   "execution_count": 14,
   "metadata": {},
   "outputs": [
    {
     "name": "stdout",
     "output_type": "stream",
     "text": [
      "number1 = 22; number2 = 99\n"
     ]
    }
   ],
   "source": [
    "number1 = 99\n",
    "number2 = 22\n",
    "number1, number2 = (number2, number1)\n",
    "print(f'number1 = {number1}; number2 = {number2}')"
   ]
  },
  {
   "cell_type": "code",
   "execution_count": null,
   "metadata": {},
   "outputs": [
    {
     "name": "stdout",
     "output_type": "stream",
     "text": [
      "[(0, 'red'), (1, 'orange'), (2, 'yellow')]\n",
      "['red', 'orange', 'yellow']\n",
      "<enumerate object at 0x0000025E01EFE070>\n"
     ]
    }
   ],
   "source": [
    "colors = ['red', 'orange', 'yellow'] # colors listesi\n",
    "list(enumerate(colors))\n",
    "print(list(enumerate(colors))) #sıralı yazdırdık\n",
    "print(colors)\n",
    "#renkleri sıralı bir şekilde yazdırmak için enumerate fonksiyonunu kullandık\n",
    "#bunu örnek olarak bir şeyi grafik yapıcaz her rengin bir sırası olması lazım\n",
    "#sıralı olarak yazdırmak için enumerate fonksiyonunu kullanırız"
   ]
  },
  {
   "cell_type": "code",
   "execution_count": 18,
   "metadata": {},
   "outputs": [
    {
     "name": "stdout",
     "output_type": "stream",
     "text": [
      "\n",
      "Creating a bar chart from numbers:\n",
      "Index   Value Bar\n",
      "    0      19 *******************\n",
      "    1       3 ***\n",
      "    2      15 ***************\n",
      "    3       7 *******\n",
      "    4      11 ***********\n"
     ]
    }
   ],
   "source": [
    "\"\"\"Displaying a bar chart\"\"\"\n",
    "numbers = [19, 3, 15, 7, 11]\n",
    "\n",
    "print('\\nCreating a bar chart from numbers:')\n",
    "print(f'Index{\"Value\":>8} Bar')\n",
    "\n",
    "for index, value in enumerate(numbers):\n",
    "    print(f'{index:>5}{value:>8} {\"*\" * value}')"
   ]
  }
 ],
 "metadata": {
  "kernelspec": {
   "display_name": "Python 3",
   "language": "python",
   "name": "python3"
  },
  "language_info": {
   "codemirror_mode": {
    "name": "ipython",
    "version": 3
   },
   "file_extension": ".py",
   "mimetype": "text/x-python",
   "name": "python",
   "nbconvert_exporter": "python",
   "pygments_lexer": "ipython3",
   "version": "3.13.2"
  }
 },
 "nbformat": 4,
 "nbformat_minor": 2
}
