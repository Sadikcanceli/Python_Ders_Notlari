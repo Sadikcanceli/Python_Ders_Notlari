{
 "cells": [
  {
   "cell_type": "code",
   "execution_count": 1,
   "id": "4a917859-5ee9-472f-a74a-78882f97bb09",
   "metadata": {},
   "outputs": [],
   "source": [
    "#2.3"
   ]
  },
  {
   "cell_type": "code",
   "execution_count": 5,
   "id": "9436d5d4-c4a0-4f2e-8872-a02c32c67ba4",
   "metadata": {},
   "outputs": [],
   "source": [
    "grade=91"
   ]
  },
  {
   "cell_type": "code",
   "execution_count": 4,
   "id": "87853d48-7706-4410-be4c-bbb1f68e9553",
   "metadata": {},
   "outputs": [
    {
     "name": "stdout",
     "output_type": "stream",
     "text": [
      "Congratulations! Your grade of 91 earns you an A in this course\n"
     ]
    }
   ],
   "source": [
    "if grade >=90:\n",
    "    print(\"Congratulations! Your grade of 91 earns you an A in this course\")"
   ]
  },
  {
   "cell_type": "code",
   "execution_count": 6,
   "id": "b8f98453-46d0-407a-825c-4b1e695eee11",
   "metadata": {},
   "outputs": [],
   "source": [
    "#######################################################################################"
   ]
  },
  {
   "cell_type": "code",
   "execution_count": null,
   "id": "b6399247-9263-4cd9-be1e-0ae35914c3fb",
   "metadata": {},
   "outputs": [],
   "source": []
  },
  {
   "cell_type": "code",
   "execution_count": 7,
   "id": "612e4118-d8de-42c7-bd86-954bf6c0be9b",
   "metadata": {},
   "outputs": [],
   "source": [
    "#2.4"
   ]
  },
  {
   "cell_type": "code",
   "execution_count": 10,
   "id": "7a5da7ad-9150-47b0-87ea-1c73ddba491c",
   "metadata": {},
   "outputs": [
    {
     "name": "stdout",
     "output_type": "stream",
     "text": [
      "13.75\n",
      "29.5\n",
      "25.5\n",
      "55.0\n",
      "756.25\n"
     ]
    }
   ],
   "source": [
    "print(27.5/2)\n",
    "print(27.5+2)\n",
    "print(27.5-2)\n",
    "print(27.5*2)\n",
    "print(27.5**2)"
   ]
  },
  {
   "cell_type": "code",
   "execution_count": 11,
   "id": "3a46bf0b-6cad-402d-96ec-729cbc4560ce",
   "metadata": {},
   "outputs": [],
   "source": [
    "###########################################################################################"
   ]
  },
  {
   "cell_type": "code",
   "execution_count": null,
   "id": "91f4d43b-5b66-458a-94ec-29223ab933f0",
   "metadata": {},
   "outputs": [],
   "source": []
  },
  {
   "cell_type": "code",
   "execution_count": 12,
   "id": "0a58e06d-5ac1-4a9a-8f08-bb917ef010a0",
   "metadata": {},
   "outputs": [],
   "source": [
    "#2.5"
   ]
  },
  {
   "cell_type": "code",
   "execution_count": 13,
   "id": "e8073060-40ba-4c59-933c-d67ebca4d2a9",
   "metadata": {},
   "outputs": [],
   "source": [
    "r=2\n",
    "pi=3.14159"
   ]
  },
  {
   "cell_type": "code",
   "execution_count": 15,
   "id": "33638003-dcda-4ace-8f84-b836d2e837b4",
   "metadata": {},
   "outputs": [
    {
     "name": "stdout",
     "output_type": "stream",
     "text": [
      "diameter:  4\n",
      "circumference:  12.56636\n",
      "area:  12.56636\n"
     ]
    }
   ],
   "source": [
    "print(\"diameter: \",2*r)\n",
    "print(\"circumference: \",2*pi*r)\n",
    "print(\"area: \",pi*r*r)"
   ]
  },
  {
   "cell_type": "code",
   "execution_count": 16,
   "id": "c6a7852a-f880-439b-bb3e-e0100a49c460",
   "metadata": {},
   "outputs": [],
   "source": [
    "############################################################################################"
   ]
  },
  {
   "cell_type": "code",
   "execution_count": null,
   "id": "13df933b-9d43-4c23-b66c-42fa7487c661",
   "metadata": {},
   "outputs": [],
   "source": []
  },
  {
   "cell_type": "code",
   "execution_count": 17,
   "id": "c69b456a-18b5-4e18-8125-b72f8fe7bd13",
   "metadata": {},
   "outputs": [],
   "source": [
    "#2.6"
   ]
  },
  {
   "cell_type": "code",
   "execution_count": 20,
   "id": "84b314aa-7fd1-4fbc-8bc9-c5e514a8a187",
   "metadata": {},
   "outputs": [
    {
     "name": "stdin",
     "output_type": "stream",
     "text": [
      " 6\n"
     ]
    },
    {
     "name": "stdout",
     "output_type": "stream",
     "text": [
      "this number is a even\n"
     ]
    }
   ],
   "source": [
    "Number=int(input())\n",
    "if Number%2==0:\n",
    "    print(\"this number is a even\")\n",
    "else:\n",
    "    print(\"this number is odd\")"
   ]
  },
  {
   "cell_type": "code",
   "execution_count": 21,
   "id": "84b06a59-9f17-4c2a-ad48-da9d17cb98fc",
   "metadata": {},
   "outputs": [],
   "source": [
    "##############################################################################################"
   ]
  },
  {
   "cell_type": "code",
   "execution_count": null,
   "id": "45002854-8fff-4b72-8a5e-7e015ff52882",
   "metadata": {},
   "outputs": [],
   "source": []
  },
  {
   "cell_type": "code",
   "execution_count": 22,
   "id": "23ce8051-817d-4cff-9b61-af54cb6a8d33",
   "metadata": {},
   "outputs": [],
   "source": [
    "#2.7"
   ]
  },
  {
   "cell_type": "code",
   "execution_count": 24,
   "id": "ccadf1a9-0f59-4eec-ac8e-0af82a4b720a",
   "metadata": {},
   "outputs": [
    {
     "name": "stdout",
     "output_type": "stream",
     "text": [
      "4'ün katı\n",
      "2'nin katı\n"
     ]
    }
   ],
   "source": [
    "if 1024%4==0:\n",
    "    print(\"4'ün katı\")\n",
    "if 1024%2==0:\n",
    "    print(\"2'nin katı\")\n",
    "if 1024%10==0:\n",
    "    print(\"10'un katı\")"
   ]
  },
  {
   "cell_type": "code",
   "execution_count": 25,
   "id": "d8139d3c-bb33-45eb-b555-a6f4114a54af",
   "metadata": {},
   "outputs": [],
   "source": [
    "###############################################################################################\n"
   ]
  },
  {
   "cell_type": "code",
   "execution_count": null,
   "id": "a9611135-1764-439b-a4be-2e52c70efe81",
   "metadata": {},
   "outputs": [],
   "source": []
  },
  {
   "cell_type": "code",
   "execution_count": 26,
   "id": "5b1885fb-2b08-459b-b6a5-be9a94fe636f",
   "metadata": {},
   "outputs": [],
   "source": [
    "#2.8"
   ]
  },
  {
   "cell_type": "code",
   "execution_count": 27,
   "id": "3b1992c5-9bed-473e-abb3-510f8e3f7e59",
   "metadata": {},
   "outputs": [
    {
     "name": "stdout",
     "output_type": "stream",
     "text": [
      "number square   cube\n",
      "--------------------\n",
      "     0      0      0\n",
      "     1      1      1\n",
      "     2      4      8\n",
      "     3      9     27\n",
      "     4     16     64\n",
      "     5     25    125\n"
     ]
    }
   ],
   "source": [
    "print(f\"{'number':>6} {'square':>6} {'cube':>6}\")\n",
    "print(\"-\" * 20)\n",
    "\n",
    "for number in range(6):\n",
    "    square = number ** 2\n",
    "    cube = number ** 3\n",
    "    print(f\"{number:>6} {square:>6} {cube:>6}\")"
   ]
  },
  {
   "cell_type": "code",
   "execution_count": 28,
   "id": "132610ed-dbc6-4f65-914b-bfe93520561a",
   "metadata": {},
   "outputs": [],
   "source": [
    "##################################################################################################"
   ]
  },
  {
   "cell_type": "code",
   "execution_count": null,
   "id": "44ea2ef4-7fb4-4593-b422-19ef7005babd",
   "metadata": {},
   "outputs": [],
   "source": []
  },
  {
   "cell_type": "code",
   "execution_count": 29,
   "id": "cd917c11-16c4-42ea-b775-a724e2b8fcd7",
   "metadata": {},
   "outputs": [],
   "source": [
    "#2.9"
   ]
  },
  {
   "cell_type": "code",
   "execution_count": 36,
   "id": "366b88de-7896-4b5e-af53-d4f2a301bd7a",
   "metadata": {},
   "outputs": [
    {
     "name": "stdout",
     "output_type": "stream",
     "text": [
      "66\n",
      "67\n",
      "68\n",
      "98\n",
      "99\n",
      "100\n",
      "48\n",
      "49\n",
      "50\n",
      "36\n",
      "42\n",
      "43\n"
     ]
    }
   ],
   "source": [
    "A=[\"B\", \"C\", \"D\", \"b\", \"c\", \"d\", \"0\", \"1\", \"2\", \"$\", \"*\", \"+\"] \n",
    "for x in A:\n",
    "    print(ord(x))\n"
   ]
  },
  {
   "cell_type": "code",
   "execution_count": 37,
   "id": "ad58be1e-fed2-4fbe-9630-5cab65916f42",
   "metadata": {},
   "outputs": [],
   "source": [
    "####################################################################################################"
   ]
  },
  {
   "cell_type": "code",
   "execution_count": null,
   "id": "a9768c0f-0ea4-4a6b-b36e-6a24b05a2b95",
   "metadata": {},
   "outputs": [],
   "source": []
  },
  {
   "cell_type": "code",
   "execution_count": 38,
   "id": "c115b744-93ed-4f79-b2a2-f26cdc85b2f1",
   "metadata": {},
   "outputs": [],
   "source": [
    "#2.10"
   ]
  },
  {
   "cell_type": "code",
   "execution_count": 39,
   "id": "2c25ba6d-4aa6-4894-ac5d-b60233813387",
   "metadata": {},
   "outputs": [
    {
     "name": "stdin",
     "output_type": "stream",
     "text": [
      " 6\n",
      " 5\n",
      " 3\n"
     ]
    },
    {
     "name": "stdout",
     "output_type": "stream",
     "text": [
      "14\n",
      "4.666666666666667\n",
      "90\n",
      "3\n",
      "6\n"
     ]
    }
   ],
   "source": [
    "a=int(input())\n",
    "b=int(input())\n",
    "c=int(input())\n",
    "print(a+b+c)\n",
    "print((a+b+c)/3)\n",
    "print(a*b*c)\n",
    "print(min(a,b,c))\n",
    "print(max(a,b,c))\n"
   ]
  },
  {
   "cell_type": "code",
   "execution_count": 40,
   "id": "734964ab-04bb-4a16-b6ba-666442004988",
   "metadata": {},
   "outputs": [],
   "source": [
    "######################################################################################################"
   ]
  },
  {
   "cell_type": "code",
   "execution_count": null,
   "id": "1378e0cf-f486-4fa7-840a-f64080b87533",
   "metadata": {},
   "outputs": [],
   "source": []
  },
  {
   "cell_type": "code",
   "execution_count": 41,
   "id": "2fa15f64-a041-4498-8bcf-22a09c778bed",
   "metadata": {},
   "outputs": [],
   "source": [
    "#2.11"
   ]
  },
  {
   "cell_type": "code",
   "execution_count": 47,
   "id": "9c72128a-1d8f-4f55-9441-b5bcd77f8686",
   "metadata": {},
   "outputs": [
    {
     "name": "stdin",
     "output_type": "stream",
     "text": [
      "bes basamakli bir sayi giriniz:  43210\n"
     ]
    },
    {
     "name": "stdout",
     "output_type": "stream",
     "text": [
      "4\n",
      "3\n",
      "2\n",
      "1\n",
      "0\n"
     ]
    }
   ],
   "source": [
    "sayi=int(input(\"bes basamakli bir sayi giriniz: \"))\n",
    "bölen=10000\n",
    "kalan=sayi\n",
    "while bölen>=1:\n",
    "    bölüm=kalan//bölen\n",
    "    kalan=sayi%bölen\n",
    "    print(bölüm)\n",
    "    bölen=bölen//10"
   ]
  },
  {
   "cell_type": "code",
   "execution_count": 48,
   "id": "131deb02-1c0d-423b-935b-fd5258a4d877",
   "metadata": {},
   "outputs": [],
   "source": [
    "##########################################################################################################"
   ]
  },
  {
   "cell_type": "code",
   "execution_count": null,
   "id": "443590c9-e72f-4ffa-9750-d5cc45254129",
   "metadata": {},
   "outputs": [],
   "source": []
  },
  {
   "cell_type": "code",
   "execution_count": 49,
   "id": "f9c8c0f1-92e5-4de7-bf83-d4ee3fb07a04",
   "metadata": {},
   "outputs": [],
   "source": [
    "#2.12"
   ]
  },
  {
   "cell_type": "code",
   "execution_count": 55,
   "id": "92aecc18-4edb-426c-8b99-24e49bea90b9",
   "metadata": {},
   "outputs": [
    {
     "name": "stdout",
     "output_type": "stream",
     "text": [
      "10 yıl sonra:  1967.1513572895665\n",
      "20 yıl sonra:  3869.6844624861833\n",
      "30 yıl sonra:  7612.255042662042\n"
     ]
    }
   ],
   "source": [
    "para=1000\n",
    "print(\"10 yıl sonra: \",(para*((1.07)**10)))\n",
    "print(\"20 yıl sonra: \",(para*((1.07)**20)))\n",
    "print(\"30 yıl sonra: \",(para*((1.07)**30)))"
   ]
  },
  {
   "cell_type": "code",
   "execution_count": 56,
   "id": "4879c18f-2715-439e-92ff-5987f736a648",
   "metadata": {},
   "outputs": [],
   "source": [
    "############################################################################################################"
   ]
  },
  {
   "cell_type": "code",
   "execution_count": null,
   "id": "ebad14a2-01c2-48cd-a74d-129ff520a014",
   "metadata": {},
   "outputs": [],
   "source": []
  },
  {
   "cell_type": "code",
   "execution_count": 62,
   "id": "53bb43b4-5c7f-44e7-a12c-4898b6559898",
   "metadata": {},
   "outputs": [],
   "source": [
    "#2.14"
   ]
  },
  {
   "cell_type": "code",
   "execution_count": 58,
   "id": "7d4a3b75-fb05-463b-9f3f-5787575a267c",
   "metadata": {},
   "outputs": [
    {
     "name": "stdin",
     "output_type": "stream",
     "text": [
      "yaşınızı giriniz 20\n"
     ]
    },
    {
     "name": "stdout",
     "output_type": "stream",
     "text": [
      "Maksimum kalp atış hızı:  200\n",
      "hedef kalp atış hızı:  100.0 - 170.0\n"
     ]
    }
   ],
   "source": [
    "age=int(input(\"yaşınızı giriniz\"))\n",
    "hız=220-age\n",
    "print(\"Maksimum kalp atış hızı: \",hız)\n",
    "print(\"hedef kalp atış hızı: \",((hız*50)/100),\"-\",((hız*85)/100))"
   ]
  },
  {
   "cell_type": "code",
   "execution_count": 59,
   "id": "34e31a22-fc97-4feb-997e-93d411283108",
   "metadata": {},
   "outputs": [],
   "source": [
    "#############################################################################################################"
   ]
  },
  {
   "cell_type": "code",
   "execution_count": 61,
   "id": "dc7fae34-d8cf-4e9f-96f4-0d2de8ee1007",
   "metadata": {},
   "outputs": [],
   "source": [
    "#2.15"
   ]
  },
  {
   "cell_type": "code",
   "execution_count": 72,
   "id": "863150fb-04a1-44e0-bd4e-374b6a6d4b12",
   "metadata": {},
   "outputs": [
    {
     "name": "stdin",
     "output_type": "stream",
     "text": [
      " 6\n",
      " 2\n",
      " 8\n"
     ]
    },
    {
     "name": "stdout",
     "output_type": "stream",
     "text": [
      "2 6 8\n"
     ]
    }
   ],
   "source": [
    "a=int(input())\n",
    "b=int(input())\n",
    "c=int(input())\n",
    "if b>a and b>c:\n",
    "    max=b\n",
    "elif b<a and b<c:\n",
    "    min=b\n",
    "else:\n",
    "    orta=b\n",
    "if a>b and a>c:\n",
    "    max=a\n",
    "elif a<b and a<c:\n",
    "    min=a\n",
    "else:\n",
    "    orta=a\n",
    "if c>a and c>b:\n",
    "    max=c\n",
    "elif c<a and c<b:\n",
    "    min=c\n",
    "else:\n",
    "    orta=c\n",
    "print(min,orta,max)    "
   ]
  },
  {
   "cell_type": "code",
   "execution_count": null,
   "id": "214ec535-82d7-4891-8e33-ae99b2007418",
   "metadata": {},
   "outputs": [],
   "source": []
  }
 ],
 "metadata": {
  "kernelspec": {
   "display_name": "Python 3 (ipykernel)",
   "language": "python",
   "name": "python3"
  },
  "language_info": {
   "codemirror_mode": {
    "name": "ipython",
    "version": 3
   },
   "file_extension": ".py",
   "mimetype": "text/x-python",
   "name": "python",
   "nbconvert_exporter": "python",
   "pygments_lexer": "ipython3",
   "version": "3.12.7"
  }
 },
 "nbformat": 4,
 "nbformat_minor": 5
}
